{
 "cells": [
  {
   "attachments": {},
   "cell_type": "markdown",
   "metadata": {
    "id": "AHjIAUOGMLiI"
   },
   "source": [
    "# Welcome to Intro to Artificial Inteligence assignment 1 practical part!\n",
    "\n",
    "In this part you will get to implement algotithms learned in class from scratch.\n"
   ]
  },
  {
   "attachments": {},
   "cell_type": "markdown",
   "metadata": {},
   "source": [
    "The pupose of this notebook is to provide the requirments of the practical part and some visualizations. Your implementation should be in the provided Algorithms.py file."
   ]
  },
  {
   "cell_type": "markdown",
   "metadata": {
    "id": "EUhq1ubdDE2v"
   },
   "source": [
    "**Important tip:** If the same variable name appears in two different cells, the variable value will be determined by the last cell to run, rather than by the position of the cell. Let's see an example,  run the three cells below:"
   ]
  },
  {
   "cell_type": "code",
   "execution_count": 1,
   "metadata": {
    "id": "W36S7jvkENyg",
    "ExecuteTime": {
     "end_time": "2024-03-03T18:47:47.254027500Z",
     "start_time": "2024-03-03T18:47:47.187261Z"
    }
   },
   "outputs": [],
   "source": [
    "# cell 1\n",
    "x = 3"
   ]
  },
  {
   "cell_type": "code",
   "execution_count": 2,
   "metadata": {
    "id": "kei_W6-QEQD_",
    "ExecuteTime": {
     "end_time": "2024-03-03T18:47:47.271937800Z",
     "start_time": "2024-03-03T18:47:47.256029700Z"
    }
   },
   "outputs": [],
   "source": [
    "# cell 2\n",
    "x = 5"
   ]
  },
  {
   "cell_type": "code",
   "execution_count": 3,
   "metadata": {
    "id": "JPQkx5XQETF5",
    "ExecuteTime": {
     "end_time": "2024-03-03T18:47:47.327159800Z",
     "start_time": "2024-03-03T18:47:47.272939Z"
    }
   },
   "outputs": [
    {
     "name": "stdout",
     "output_type": "stream",
     "text": [
      "5\n"
     ]
    }
   ],
   "source": [
    "print(x)"
   ]
  },
  {
   "cell_type": "markdown",
   "metadata": {
    "id": "tO3WdjItEVQh"
   },
   "source": [
    "now rerun cell 1 and print x again.\n",
    "\n",
    "The same applies to functions, classes, etc.\n"
   ]
  },
  {
   "attachments": {},
   "cell_type": "markdown",
   "metadata": {
    "id": "Ik_YMt0HO_R9"
   },
   "source": [
    "# The Environment\n",
    "\n",
    "\n",
    "1. Your goal is to find a route from the initial state to **a** goal state.\n",
    "2. Each position on the map is marked with a letter, and each letter has a different meaning:\n",
    "\n",
    "  *   S - Initial (start) position. There's only one initial state on the map and its always on the upper-left corner of the grid.\n",
    "  *   G - Final state. As learned in class there may be multiple goal states.\n",
    "  *   H - Hole. When your agent reaches a hole, it falls into the water and cannot continue walking.\n",
    "  *   D - Dragon Ball. There are either two on the map. When the agent reaches a Dragon Ball, it is immediately collected. You can assume that they will not appear in a final or initial state.\n",
    "  *   F - This is the most common square on the map. The agent can walk on it safely.\n",
    "\n",
    "  Your agent can move faster by collecting 3 special objects.\n",
    "\n",
    "  *   T - [Talaria](https://en.wikipedia.org/wiki/Talaria). A pair of Winged Sandals that help you fly to the square.\n",
    "  *   A - Air jorden. Jumping shoes that help you jump to the square.\n",
    "  *   L - Lightning. Makes you run faster to the square.\n",
    "\n",
    "  When the agent performs transition (s,a,s') and collects one of the objects (T,A,L) at state s', the collected object changes the cost of the transition (as detailed below). \n",
    "\n",
    "3. The cost of each transition (s,a,s') is based on the mark if the square s' you pass to:\n",
    "  * S - 1\n",
    "  * G - 1\n",
    "  * H - ֿ$\\infty$\n",
    "  * D - 1\n",
    "  * F - 10\n",
    "  * T - 3\n",
    "  * A - 2\n",
    "  * L - 1\n",
    "\n",
    "4. The pink square marks where your agent is.\n",
    "\n",
    "5. The agent position is calculated as follows: row_number *num_col + col_ number*.\n",
    "\n",
    "6. Our agent can perform 4 actions:\n",
    "  * 0 - Down\n",
    "  * 1 - Right\n",
    "  * 2 - Up\n",
    "  * 3 - Left\n",
    "  \n",
    "\n",
    "7. If the agent tries to move outside the board boundaries, he stays in the same place.\n",
    "\n",
    "8. Section 6 describes the order in which the nodes should be created.\n",
    "\n"
   ]
  },
  {
   "cell_type": "code",
   "execution_count": 4,
   "metadata": {
    "id": "XIvTBylGni-J",
    "ExecuteTime": {
     "end_time": "2024-03-03T18:47:47.413786400Z",
     "start_time": "2024-03-03T18:47:47.278115800Z"
    }
   },
   "outputs": [],
   "source": [
    "import time\n",
    "from IPython.display import clear_output\n",
    "\n",
    "\n",
    "\n",
    "from DragonBallEnv import DragonBallEnv\n",
    "from typing import List, Tuple\n",
    "from Algorithms import *\n"
   ]
  },
  {
   "cell_type": "code",
   "execution_count": 5,
   "metadata": {
    "id": "iHTZ1L7bcMlw",
    "ExecuteTime": {
     "end_time": "2024-03-03T18:47:47.414607100Z",
     "start_time": "2024-03-03T18:47:47.409174800Z"
    }
   },
   "outputs": [],
   "source": [
    "DOWN = 0\n",
    "RIGHT = 1\n",
    "UP = 2\n",
    "LEFT = 3"
   ]
  },
  {
   "attachments": {},
   "cell_type": "markdown",
   "metadata": {
    "id": "EWEiS5mVn7mg"
   },
   "source": [
    "# Maps\n",
    "A map can be produced manually as shown in the cell below. We will only work on maps in which there is a route from the initial state to a final state."
   ]
  },
  {
   "cell_type": "code",
   "execution_count": 6,
   "metadata": {
    "id": "MaIE0Yqenp2O",
    "ExecuteTime": {
     "end_time": "2024-03-03T18:47:47.417116600Z",
     "start_time": "2024-03-03T18:47:47.412785200Z"
    }
   },
   "outputs": [],
   "source": [
    "MAPS = {\n",
    "    \"4x4\": [\"SFFF\",\n",
    "            \"FDFF\",\n",
    "            \"FFFD\",\n",
    "            \"FFFG\"],\n",
    "    \"8x8\": [\n",
    "        \"SFFFFFFF\",\n",
    "        \"FFFFFTAL\",\n",
    "        \"TFFHFFTF\",\n",
    "        \"FFFFFHTF\",\n",
    "        \"FAFHFFFF\",\n",
    "        \"FHHFFFHF\",\n",
    "        \"DFTFHDTL\",\n",
    "        \"FLFHFFFG\",\n",
    "    ],\n",
    "}"
   ]
  },
  {
   "cell_type": "markdown",
   "metadata": {
    "id": "qIpo4KAgxE9q"
   },
   "source": [
    "\n",
    "# The Dragon Ball Environment ⛷\n",
    "The file `DragonBallEnv.py` implements our own version of the dragon ball environment. It is recommended to go through the code. \n",
    "\n",
    "**Note: You are not allowed to change this file.**"
   ]
  },
  {
   "cell_type": "markdown",
   "metadata": {
    "id": "jRBezhLKIIJH"
   },
   "source": [
    "Lets start by creating a new environment object.\n",
    "\n",
    "In order to create an environment object, you must provide it with a board."
   ]
  },
  {
   "cell_type": "code",
   "execution_count": 7,
   "metadata": {
    "id": "9ce62lyU8L39",
    "ExecuteTime": {
     "end_time": "2024-03-03T18:47:47.462571400Z",
     "start_time": "2024-03-03T18:47:47.417116600Z"
    }
   },
   "outputs": [
    {
     "name": "stdout",
     "output_type": "stream",
     "text": [
      "Initial state: (0, False, False)\n",
      "Goal states: [(63, True, True)]\n"
     ]
    }
   ],
   "source": [
    "env = DragonBallEnv(MAPS[\"8x8\"])\n",
    "state = env.reset()\n",
    "print('Initial state:', state)\n",
    "print('Goal states:', env.goals) "
   ]
  },
  {
   "cell_type": "markdown",
   "metadata": {
    "id": "BWYU-zl1J1_m"
   },
   "source": [
    "First, take a look at the state space $\\mathcal{S}$ (all possible states) and action space $\\mathcal{A}$ (all possible actions). "
   ]
  },
  {
   "cell_type": "code",
   "execution_count": 8,
   "metadata": {
    "id": "Cg7XAAByJ-IH",
    "ExecuteTime": {
     "end_time": "2024-03-03T18:47:47.462571400Z",
     "start_time": "2024-03-03T18:47:47.421222800Z"
    }
   },
   "outputs": [
    {
     "name": "stdout",
     "output_type": "stream",
     "text": [
      "Action Space Discrete(4)\n",
      "State Space Tuple(Discrete(64), Discrete(2), Discrete(2))\n"
     ]
    }
   ],
   "source": [
    "print(f\"Action Space {env.action_space}\")\n",
    "print(f\"State Space {env.observation_space}\")"
   ]
  },
  {
   "attachments": {},
   "cell_type": "markdown",
   "metadata": {
    "id": "wqptD9FjiYni"
   },
   "source": [
    "***Remark***: You may have noticed that gym uses `observation_space` instead of state space. For the purpose of this homework, the state space is the same as the observation space. However, in some problems the state is partially observed, so the space of possible states may not be the same as the space of possible observations. \n",
    "\n"
   ]
  },
  {
   "cell_type": "markdown",
   "metadata": {
    "id": "BASrtg6SHjFI"
   },
   "source": [
    "Now we will go through some usfel methods (It is still recommended to go through the other methods in the class):\n",
    "\n",
    "`render()` - returns a printable view of the board."
   ]
  },
  {
   "cell_type": "code",
   "execution_count": 9,
   "metadata": {
    "id": "kDNpfddaBWJk",
    "ExecuteTime": {
     "end_time": "2024-03-03T18:47:47.464573200Z",
     "start_time": "2024-03-03T18:47:47.426069Z"
    }
   },
   "outputs": [
    {
     "name": "stdout",
     "output_type": "stream",
     "text": [
      "\n",
      "\u001B[43m\u001B[45mS\u001B[0m\u001B[0m\u001B[42mF\u001B[0m\u001B[42mF\u001B[0m\u001B[42mF\u001B[0m\u001B[42mF\u001B[0m\u001B[42mF\u001B[0m\u001B[42mF\u001B[0m\u001B[42mF\u001B[0m\n",
      "\u001B[42mF\u001B[0m\u001B[42mF\u001B[0m\u001B[42mF\u001B[0m\u001B[42mF\u001B[0m\u001B[42mF\u001B[0m\u001B[42mT\u001B[0m\u001B[42mA\u001B[0m\u001B[42mL\u001B[0m\n",
      "\u001B[42mT\u001B[0m\u001B[42mF\u001B[0m\u001B[42mF\u001B[0m\u001B[47mH\u001B[0m\u001B[42mF\u001B[0m\u001B[42mF\u001B[0m\u001B[42mT\u001B[0m\u001B[42mF\u001B[0m\n",
      "\u001B[42mF\u001B[0m\u001B[42mF\u001B[0m\u001B[42mF\u001B[0m\u001B[42mF\u001B[0m\u001B[42mF\u001B[0m\u001B[47mH\u001B[0m\u001B[42mT\u001B[0m\u001B[42mF\u001B[0m\n",
      "\u001B[42mF\u001B[0m\u001B[42mA\u001B[0m\u001B[42mF\u001B[0m\u001B[47mH\u001B[0m\u001B[42mF\u001B[0m\u001B[42mF\u001B[0m\u001B[42mF\u001B[0m\u001B[42mF\u001B[0m\n",
      "\u001B[42mF\u001B[0m\u001B[47mH\u001B[0m\u001B[47mH\u001B[0m\u001B[42mF\u001B[0m\u001B[42mF\u001B[0m\u001B[42mF\u001B[0m\u001B[47mH\u001B[0m\u001B[42mF\u001B[0m\n",
      "\u001B[43mD\u001B[0m\u001B[42mF\u001B[0m\u001B[42mT\u001B[0m\u001B[42mF\u001B[0m\u001B[47mH\u001B[0m\u001B[43mD\u001B[0m\u001B[42mT\u001B[0m\u001B[42mL\u001B[0m\n",
      "\u001B[42mF\u001B[0m\u001B[42mL\u001B[0m\u001B[42mF\u001B[0m\u001B[47mH\u001B[0m\u001B[42mF\u001B[0m\u001B[42mF\u001B[0m\u001B[42mF\u001B[0m\u001B[43mG\u001B[0m\n"
     ]
    }
   ],
   "source": [
    "print(env.render())"
   ]
  },
  {
   "attachments": {},
   "cell_type": "markdown",
   "metadata": {
    "id": "ZAaEmhts9vAT"
   },
   "source": [
    "The pink square represents the agent. The letter ״*H*״ represents holes, and the yellow square are dragon balls or goal.\n",
    "\n",
    "Here are two more useful methods:\n",
    "\n",
    "`get_state()` - Returns the current state of the agent.\n",
    "\n",
    "`set_state(state)` - Sets the current state of the agent."
   ]
  },
  {
   "cell_type": "code",
   "execution_count": 10,
   "metadata": {
    "id": "43Z9On8M--ln",
    "ExecuteTime": {
     "end_time": "2024-03-03T18:47:47.465573800Z",
     "start_time": "2024-03-03T18:47:47.431061300Z"
    }
   },
   "outputs": [
    {
     "name": "stdout",
     "output_type": "stream",
     "text": [
      "\n",
      "\u001B[43mS\u001B[0m\u001B[42mF\u001B[0m\u001B[42mF\u001B[0m\u001B[42mF\u001B[0m\u001B[42mF\u001B[0m\u001B[42mF\u001B[0m\u001B[42mF\u001B[0m\u001B[42mF\u001B[0m\n",
      "\u001B[42mF\u001B[0m\u001B[42mF\u001B[0m\u001B[42mF\u001B[0m\u001B[42mF\u001B[0m\u001B[42mF\u001B[0m\u001B[42mT\u001B[0m\u001B[42mA\u001B[0m\u001B[42mL\u001B[0m\n",
      "\u001B[42mT\u001B[0m\u001B[42mF\u001B[0m\u001B[45m\u001B[45mF\u001B[0m\u001B[0m\u001B[47mH\u001B[0m\u001B[42mF\u001B[0m\u001B[42mF\u001B[0m\u001B[42mT\u001B[0m\u001B[42mF\u001B[0m\n",
      "\u001B[42mF\u001B[0m\u001B[42mF\u001B[0m\u001B[42mF\u001B[0m\u001B[42mF\u001B[0m\u001B[42mF\u001B[0m\u001B[47mH\u001B[0m\u001B[42mT\u001B[0m\u001B[42mF\u001B[0m\n",
      "\u001B[42mF\u001B[0m\u001B[42mA\u001B[0m\u001B[42mF\u001B[0m\u001B[47mH\u001B[0m\u001B[42mF\u001B[0m\u001B[42mF\u001B[0m\u001B[42mF\u001B[0m\u001B[42mF\u001B[0m\n",
      "\u001B[42mF\u001B[0m\u001B[47mH\u001B[0m\u001B[47mH\u001B[0m\u001B[42mF\u001B[0m\u001B[42mF\u001B[0m\u001B[42mF\u001B[0m\u001B[47mH\u001B[0m\u001B[42mF\u001B[0m\n",
      "\u001B[43mD\u001B[0m\u001B[42mF\u001B[0m\u001B[42mT\u001B[0m\u001B[42mF\u001B[0m\u001B[47mH\u001B[0m\u001B[43mD\u001B[0m\u001B[42mT\u001B[0m\u001B[42mL\u001B[0m\n",
      "\u001B[42mF\u001B[0m\u001B[42mL\u001B[0m\u001B[42mF\u001B[0m\u001B[47mH\u001B[0m\u001B[42mF\u001B[0m\u001B[42mF\u001B[0m\u001B[42mF\u001B[0m\u001B[43mG\u001B[0m\n",
      "\n",
      "the agent is at state: (18, False, False)\n"
     ]
    }
   ],
   "source": [
    "env.set_state((18, False, False))\n",
    "print(env.render())\n",
    "print(f\"the agent is at state: {env.get_state()}\")"
   ]
  },
  {
   "cell_type": "markdown",
   "metadata": {
    "id": "6VwmIbSyAcsC"
   },
   "source": [
    "`succ(state)` - Returns a dictionary that contains information on all the successors of a state.\n",
    "\n",
    "*   The keys are the actions.\n",
    "*   The values are tuples of the form (next state, cost, terminated). Note that terminated is true when the agent reaches a **final state** or a **hole**.\n",
    "\n",
    "\n",
    "\n",
    "***Tip***: You can loop through both keys and values by using the `items()` method.\n"
   ]
  },
  {
   "cell_type": "code",
   "outputs": [
    {
     "name": "stdout",
     "output_type": "stream",
     "text": [
      "Current state: (18, False, False)\n",
      "\n",
      "*** Action: 0 ***\n",
      "Next state: (26, False, False)\n",
      "Cost: 10.0\n",
      "Terminated: False\n",
      "\n",
      "*** Action: 1 ***\n",
      "Next state: (19, False, False)\n",
      "Cost: inf\n",
      "Terminated: True\n",
      "\n",
      "*** Action: 2 ***\n",
      "Next state: (10, False, False)\n",
      "Cost: 10.0\n",
      "Terminated: False\n",
      "\n",
      "*** Action: 3 ***\n",
      "Next state: (17, False, False)\n",
      "Cost: 10.0\n",
      "Terminated: False\n"
     ]
    }
   ],
   "source": [
    "current_state = env.get_state()\n",
    "print(f\"Current state: {current_state}\\n\")\n",
    "for action, successor in env.succ(current_state).items():\n",
    "  print(f\"*** Action: {action} ***\")\n",
    "  print(f\"Next state: {successor[0]}\")\n",
    "  print(f\"Cost: {successor[1]}\")\n",
    "  print(f\"Terminated: {successor[2]}\\n\")"
   ],
   "metadata": {
    "collapsed": false,
    "ExecuteTime": {
     "end_time": "2024-03-03T18:47:47.465573800Z",
     "start_time": "2024-03-03T18:47:47.434799900Z"
    }
   },
   "execution_count": 11
  },
  {
   "cell_type": "markdown",
   "metadata": {
    "id": "f2qFBBDWBcVi"
   },
   "source": [
    "As you can see, the action 0 (down) will move your agent to state 26 and the transition will cost you 10. Action 1 will move your agent to state 19, which is a hole that will terminate your run.\n",
    "\n",
    "`is_final_state(state)` can assist you in distinguishing between a final state and a hole."
   ]
  },
  {
   "cell_type": "code",
   "execution_count": 12,
   "metadata": {
    "id": "7j097OzTBZ_4",
    "ExecuteTime": {
     "end_time": "2024-03-03T18:47:47.466575Z",
     "start_time": "2024-03-03T18:47:47.440354700Z"
    }
   },
   "outputs": [
    {
     "name": "stdout",
     "output_type": "stream",
     "text": [
      "Next state: (19, False, False)\n",
      "Cost: inf\n",
      "Terminated: True\n",
      "Final state: False\n"
     ]
    }
   ],
   "source": [
    "state, cost, terminated = env.succ(current_state)[1]\n",
    "\n",
    "print(f\"Next state: {state}\")\n",
    "print(f\"Cost: {cost}\")\n",
    "print(f\"Terminated: {terminated}\")\n",
    "print(f\"Final state: {env.is_final_state(state)}\")"
   ]
  },
  {
   "cell_type": "markdown",
   "metadata": {
    "id": "ptr9kbNole-Y"
   },
   "source": [
    "Let's see what happens when we apply succ(state) on a hole:\n",
    "\n"
   ]
  },
  {
   "cell_type": "code",
   "execution_count": 13,
   "metadata": {
    "id": "GcpKGM5yli4M",
    "ExecuteTime": {
     "end_time": "2024-03-03T18:47:47.475492700Z",
     "start_time": "2024-03-03T18:47:47.445182Z"
    }
   },
   "outputs": [
    {
     "name": "stdout",
     "output_type": "stream",
     "text": [
      "Current state: 19\n",
      "\n",
      "*** Action: 0 ***\n",
      "Next state: None\n",
      "Cost: None\n",
      "Terminated: None\n",
      "\n",
      "*** Action: 1 ***\n",
      "Next state: None\n",
      "Cost: None\n",
      "Terminated: None\n",
      "\n",
      "*** Action: 2 ***\n",
      "Next state: None\n",
      "Cost: None\n",
      "Terminated: None\n",
      "\n",
      "*** Action: 3 ***\n",
      "Next state: None\n",
      "Cost: None\n",
      "Terminated: None\n"
     ]
    }
   ],
   "source": [
    "print(f\"Current state: 19\\n\")\n",
    "for action, (state, cost, terminated) in env.succ((19, False, False)).items():\n",
    "  print(f\"*** Action: {action} ***\")\n",
    "  print(f\"Next state: {state}\")\n",
    "  print(f\"Cost: {cost}\")\n",
    "  print(f\"Terminated: {terminated}\\n\")"
   ]
  },
  {
   "cell_type": "markdown",
   "metadata": {
    "id": "dxny4BVOr-UT"
   },
   "source": [
    "As you can see, if the operator cannot be applied to the state, all returned values are \"None\""
   ]
  },
  {
   "cell_type": "markdown",
   "metadata": {
    "id": "FXDKjWAoCqW_"
   },
   "source": [
    "Now it's time to move your agent around 🤖.\n",
    "\n",
    "`step(action)` - will move your agent one step along the board.\n"
   ]
  },
  {
   "cell_type": "code",
   "execution_count": 14,
   "metadata": {
    "id": "gLWj_oYaFM33",
    "ExecuteTime": {
     "end_time": "2024-03-03T18:47:47.572579500Z",
     "start_time": "2024-03-03T18:47:47.448501Z"
    }
   },
   "outputs": [
    {
     "name": "stdout",
     "output_type": "stream",
     "text": [
      "  (Down)\n",
      "\u001B[43mS\u001B[0m\u001B[42mF\u001B[0m\u001B[42mF\u001B[0m\u001B[42mF\u001B[0m\u001B[42mF\u001B[0m\u001B[42mF\u001B[0m\u001B[42mF\u001B[0m\u001B[42mF\u001B[0m\n",
      "\u001B[42mF\u001B[0m\u001B[42mF\u001B[0m\u001B[42mF\u001B[0m\u001B[42mF\u001B[0m\u001B[42mF\u001B[0m\u001B[42mT\u001B[0m\u001B[42mA\u001B[0m\u001B[42mL\u001B[0m\n",
      "\u001B[42mT\u001B[0m\u001B[42mF\u001B[0m\u001B[42mF\u001B[0m\u001B[47mH\u001B[0m\u001B[42mF\u001B[0m\u001B[42mF\u001B[0m\u001B[42mT\u001B[0m\u001B[42mF\u001B[0m\n",
      "\u001B[42mF\u001B[0m\u001B[42mF\u001B[0m\u001B[45m\u001B[45mF\u001B[0m\u001B[0m\u001B[42mF\u001B[0m\u001B[42mF\u001B[0m\u001B[47mH\u001B[0m\u001B[42mT\u001B[0m\u001B[42mF\u001B[0m\n",
      "\u001B[42mF\u001B[0m\u001B[42mA\u001B[0m\u001B[42mF\u001B[0m\u001B[47mH\u001B[0m\u001B[42mF\u001B[0m\u001B[42mF\u001B[0m\u001B[42mF\u001B[0m\u001B[42mF\u001B[0m\n",
      "\u001B[42mF\u001B[0m\u001B[47mH\u001B[0m\u001B[47mH\u001B[0m\u001B[42mF\u001B[0m\u001B[42mF\u001B[0m\u001B[42mF\u001B[0m\u001B[47mH\u001B[0m\u001B[42mF\u001B[0m\n",
      "\u001B[43mD\u001B[0m\u001B[42mF\u001B[0m\u001B[42mT\u001B[0m\u001B[42mF\u001B[0m\u001B[47mH\u001B[0m\u001B[43mD\u001B[0m\u001B[42mT\u001B[0m\u001B[42mL\u001B[0m\n",
      "\u001B[42mF\u001B[0m\u001B[42mL\u001B[0m\u001B[42mF\u001B[0m\u001B[47mH\u001B[0m\u001B[42mF\u001B[0m\u001B[42mF\u001B[0m\u001B[42mF\u001B[0m\u001B[43mG\u001B[0m\n",
      "\n",
      "New state: (26, False, False)\n",
      "cost: 10.0\n",
      "Terminated: False\n"
     ]
    }
   ],
   "source": [
    "new_state, cost, terminated = env.step(DOWN)\n",
    "print(env.render())\n",
    "print(\"New state:\", new_state)\n",
    "print(\"cost:\", cost)\n",
    "print(\"Terminated:\", terminated)"
   ]
  },
  {
   "cell_type": "markdown",
   "metadata": {
    "id": "HHcHkCw8FipY"
   },
   "source": [
    "The step-function returns the following information:\n",
    "* __New state__: The state after the action is taken.\n",
    "* __Cost__: The immediate cost.\n",
    "* __Terminated__: Is the environment done? In our environment this will be false until the agent will reach a hole or a final state.\n"
   ]
  },
  {
   "cell_type": "markdown",
   "metadata": {
    "id": "qh9NM7qDlxUc"
   },
   "source": [
    "Here are a few more useful attributes and methods:\n",
    "\n",
    "\n",
    "`env.nrow`, `env.ncol` - Row and columns number.\n",
    "\n",
    "`env.nA` - Number of actions.\n",
    "\n",
    "`env.nS` - Number of squares.\n",
    "\n",
    "`env.lastaction` - The last action performed by the agent.\n",
    "\n",
    "`env.d1`, `env.d2` - This is the state for each dragon ball. If there are no dragon balls on the board they are set to NULL.\n",
    "\n",
    "`env.inc(row, col, action)` - Given a position and an action, returns the new position.\n",
    "\n",
    "`env.to_row_col(state)` - Converts between state and location on the board.\n",
    "\n",
    "`env.to_state(row, col)` - Converts between location on the board and state.\n",
    "\n"
   ]
  },
  {
   "cell_type": "markdown",
   "metadata": {
    "id": "xoxs3sG0QyhF"
   },
   "source": [
    "We've finished our demo 🥳 and it's time to reset the environment."
   ]
  },
  {
   "cell_type": "code",
   "execution_count": 15,
   "metadata": {
    "id": "MfjMsGRnHoK0",
    "ExecuteTime": {
     "end_time": "2024-03-03T18:47:47.573580600Z",
     "start_time": "2024-03-03T18:47:47.452488800Z"
    }
   },
   "outputs": [
    {
     "name": "stdout",
     "output_type": "stream",
     "text": [
      "current state befor reset: (26, False, False)\n",
      "current state after reset: (0, False, False)\n"
     ]
    }
   ],
   "source": [
    "print(f\"current state befor reset: {env.get_state()}\")\n",
    "env.reset()\n",
    "print(f\"current state after reset: {env.get_state()}\")"
   ]
  },
  {
   "cell_type": "markdown",
   "metadata": {
    "id": "KYqbtBE_kzDK"
   },
   "source": [
    "One (quite bad) strategy for out agent is to take a random action every time. Inside a gym-environment this can be done using `env.action_space.sample()`, which samples a random action from the action space. Look through the following loop and make sure that you understand what's going on. Here, we use `clear_output()` to clear the output of the Jupyter cell, and `time.sleep()` to pause between each action)\n",
    "\n",
    "\n",
    "Let's see what would happen if we try to brute-force our way to solving the problem.\n",
    "\n",
    "\n",
    "We'll create an infinite loop that runs until the agent reaches the final state.The `env.action_space.sample()` method automatically selects one random action from set of all possible actions."
   ]
  },
  {
   "cell_type": "code",
   "execution_count": 16,
   "metadata": {
    "id": "MZE__OgBx78N",
    "ExecuteTime": {
     "end_time": "2024-03-03T18:47:47.592565Z",
     "start_time": "2024-03-03T18:47:47.467575600Z"
    }
   },
   "outputs": [],
   "source": [
    "class RandomAgent():\n",
    "  def __init__(self):\n",
    "    self.env = None\n",
    "\n",
    "  def animation(self, epochs: int ,state: int, action: List[int], total_cost: int) -> None:\n",
    "      clear_output(wait=True)\n",
    "      print(self.env.render())\n",
    "      print(f\"Timestep: {epochs}\")\n",
    "      print(f\"State: {state}\")\n",
    "      print(f\"Action: {action}\")\n",
    "      print(f\"Total Cost: {total_cost}\")\n",
    "      time.sleep(1)\n",
    "\n",
    "  def random_search(self, DragonBallEnv: env) -> Tuple[List[int],int]:\n",
    "    self.env = env\n",
    "    self.env.reset()\n",
    "    epochs = 0\n",
    "    cost = 0\n",
    "    total_cost = 0\n",
    "\n",
    "    actions = []\n",
    "\n",
    "    state = self.env.get_initial_state()\n",
    "    while not self.env.is_final_state(state):\n",
    "      action = self.env.action_space.sample()\n",
    "      new_state, cost, terminated = self.env.step(action)\n",
    "        \n",
    "      while terminated is True and self.env.is_final_state(state) is False:\n",
    "        self.env.set_state(state)\n",
    "        action = self.env.action_space.sample()\n",
    "        new_state, cost, terminated = self.env.step(action)\n",
    "        \n",
    "      actions.append(action)\n",
    "      total_cost += cost\n",
    "      state = new_state\n",
    "      epochs += 1\n",
    "      \n",
    "      self.animation(epochs,state,action,total_cost)\n",
    "\n",
    "    return (actions, total_cost)"
   ]
  },
  {
   "attachments": {},
   "cell_type": "markdown",
   "metadata": {
    "id": "QJ9FDJWNZr3-"
   },
   "source": [
    "Let's check out this agent's performance!\n",
    "\n",
    "The output of this agent is the sequence of actions that led to the solution and the route's cost. \n",
    "\n",
    "Our random agent is not very successful, so we'll print his actions as they happen. \n",
    "\n",
    "1.   **Stop his run in the middle if you are tired of looking at him.**\n",
    "2.   After watching the agent please put the code in the box below in the a comment for your comfort.\n",
    "\n",
    " \n",
    "\n"
   ]
  },
  {
   "cell_type": "code",
   "execution_count": 17,
   "metadata": {
    "id": "8Gc3-gJVZH3h",
    "ExecuteTime": {
     "end_time": "2024-03-03T18:47:47.606576900Z",
     "start_time": "2024-03-03T18:47:47.578585300Z"
    }
   },
   "outputs": [],
   "source": [
    "#agent = RandomAgent()\n",
    "#agent.random_search(env)"
   ]
  },
  {
   "cell_type": "markdown",
   "metadata": {
    "id": "FW7YKLjCi4Qf"
   },
   "source": [
    "**Did you remember to put the code above in a comment?!**"
   ]
  },
  {
   "attachments": {},
   "cell_type": "markdown",
   "metadata": {
    "id": "qBKDB1Aja5JB"
   },
   "source": [
    "As you can see, a random policy is, unsurprisingly, not a good policy. However, what else can we do?\n",
    "\n",
    "This is where you come in!\n",
    "\n",
    "In this assignment you will be required to implement the following algorithms taught in class in order to solve the problem.\n",
    "\n",
    "Algorithms: \n",
    "1. BFS-G\n",
    "2. W-A*\n",
    "3. epsilon-A*\n",
    "\n",
    "Important to note!\n",
    "\n",
    "Each agent should return a tuple: (actions, cost, expended) \n",
    "*  actions - the list of integers containing the sequence of actions that produce your agent's solution (and not the entire search process).\n",
    "* cost -  an integer which holds the total cost of the solution.\n",
    "* expanded - an integer which holds the number of nodes that have been expanded during the search (A node is considered expanded if we check for it's successors).\n",
    "\n",
    "The solution to our search problem is the a to the final state, not the final state itself. By saving the actions, we are able to restore the path your agent found.\n",
    "\n",
    "\n",
    "Any other output, unless otherwise specified, will cause the running of the tests to fail and will result in a grade of 0 !\n",
    "\n"
   ]
  },
  {
   "attachments": {},
   "cell_type": "markdown",
   "metadata": {
    "id": "-nikK0HKwhRw"
   },
   "source": [
    "\n",
    "Some Tips:\n",
    "1. Follow the pseudo-code shown in the lectures and tutorials.\n",
    "2. You should write all your code within the classes. This way, we prevent overlapping functions with the same name while running the notebook.\n",
    "3. You may implement your code as you like but consider inherenting from the a general \"Agent\" class and implement some utilty methods such as the \"solution\" method which recieves a node and returns a path (sequence of actions) leading to that node.\n",
    "4. Consider implementing a \"node\" class.\n",
    "5. Using small boards will help you debug.\n"
   ]
  },
  {
   "cell_type": "markdown",
   "metadata": {
    "id": "lMwTzaJKw9gA"
   },
   "source": [
    "The function below (`print_solution()`) can be used for debugging purposes. It prints the sequence of actions it receives. The function will not be used to test your code, so you are welcome to change it."
   ]
  },
  {
   "cell_type": "code",
   "execution_count": 18,
   "metadata": {
    "id": "WQj77NFT0Wdc",
    "ExecuteTime": {
     "end_time": "2024-03-03T18:47:47.633813800Z",
     "start_time": "2024-03-03T18:47:47.609579700Z"
    }
   },
   "outputs": [],
   "source": [
    "def print_solution(actions,env: DragonBallEnv) -> None:\n",
    "    env.reset()\n",
    "    total_cost = 0\n",
    "    print(env.render())\n",
    "    print(f\"Timestep: {1}\")\n",
    "    print(f\"State: {env.get_state()}\")\n",
    "    print(f\"Action: {None}\")\n",
    "    print(f\"Cost: {0}\")\n",
    "    time.sleep(1)\n",
    "\n",
    "    for i, action in enumerate(actions):\n",
    "      state, cost, terminated = env.step(action)\n",
    "      total_cost += cost\n",
    "      clear_output(wait=True)\n",
    "\n",
    "      print(env.render())\n",
    "      print(f\"Timestep: {i + 2}\")\n",
    "      print(f\"State: {state}\")\n",
    "      print(f\"Action: {action}\")\n",
    "      print(f\"Cost: {cost}\")\n",
    "      print(f\"Total cost: {total_cost}\")\n",
    "      \n",
    "      time.sleep(1)\n",
    "\n",
    "      if terminated is True:\n",
    "        break"
   ]
  },
  {
   "cell_type": "markdown",
   "metadata": {
    "id": "8zGQKO6ka-5P"
   },
   "source": [
    "## 1. BFS-G\n",
    "**TO DO:** implement Breadth First Search (BFS) algorithm on graph like shown in class.\n"
   ]
  },
  {
   "cell_type": "markdown",
   "metadata": {
    "id": "XfoBu-elP2To"
   },
   "source": [
    "Now lets test your BFS agent!"
   ]
  },
  {
   "cell_type": "code",
   "outputs": [
    {
     "name": "stdout",
     "output_type": "stream",
     "text": [
      "Total_cost: 119\n",
      "Expanded: 123\n",
      "Actions: [0, 0, 0, 0, 0, 0, 1, 1, 1, 2, 1, 1, 0, 0, 1, 1]\n"
     ]
    }
   ],
   "source": [
    "BFS_agent = BFSAgent()\n",
    "actions, total_cost, expanded = BFS_agent.search(env)\n",
    "print(f\"Total_cost: {total_cost}\")\n",
    "print(f\"Expanded: {expanded}\")\n",
    "print(f\"Actions: {actions}\")\n",
    "\n",
    "assert total_cost == 119.0, \"Error in total cost returned\""
   ],
   "metadata": {
    "collapsed": false,
    "ExecuteTime": {
     "end_time": "2024-03-03T18:47:47.649267700Z",
     "start_time": "2024-03-03T18:47:47.634814900Z"
    }
   },
   "execution_count": 19
  },
  {
   "cell_type": "code",
   "execution_count": 20,
   "metadata": {
    "collapsed": false,
    "ExecuteTime": {
     "end_time": "2024-03-03T18:47:47.670086800Z",
     "start_time": "2024-03-03T18:47:47.638470700Z"
    }
   },
   "outputs": [],
   "source": [
    "#print_solution(actions, env)"
   ]
  },
  {
   "cell_type": "markdown",
   "source": [
    "# Heapdict\n",
    "For the next algorithms, you will be required to maintain an \"open\" queue based on a certain value (g/h/v). To manage these queues efficiently and conveniently, please use [Heapdict](https://www.geeksforgeeks.org/priority-queue-using-queue-and-heapdict-module-in-python/). Heapdict implements the MutableMapping ABC, meaning it works pretty much like a regular Python [dictionary](https://www.geeksforgeeks.org/python-dictionary/). It’s designed to be used as a priority queue. Along with functions provided by ordinary dict(), it also has popitem() and peekitem() functions which return the pair with the lowest priority.\n",
    "\n",
    "Note:\n",
    "\n",
    "When two nodes have the same minimum value, select the node with the lower state index first. Instead of defining priority as an integer, you can define it as a tuple (value, state, ...)."
   ],
   "metadata": {
    "collapsed": false
   }
  },
  {
   "attachments": {},
   "cell_type": "markdown",
   "metadata": {
    "id": "sUnh0cwqrzfK"
   },
   "source": [
    "## 2. Weighted A*\n",
    "TO DO: implement Wighted A* like shown in class.\n",
    "\n",
    "Note:\n",
    "\n",
    "*   A parameter called `h_weight` is passed to `Greedy_Best_First_search()`, which indicates how much weight is given to the heuristics (ranging from 0 to 1).\n",
    "*   The heurisitcs needed to be implemented. Instructions in dry pdf.\n",
    "\n",
    "\n",
    "\n",
    "\n"
   ]
  },
  {
   "cell_type": "code",
   "execution_count": 21,
   "metadata": {
    "id": "8xKSoHrMvJTG",
    "ExecuteTime": {
     "end_time": "2024-03-03T18:47:47.672088500Z",
     "start_time": "2024-03-03T18:47:47.651269Z"
    }
   },
   "outputs": [
    {
     "name": "stdout",
     "output_type": "stream",
     "text": [
      "Total_cost: 103\n",
      "Expanded: 76\n",
      "Actions: [0, 0, 0, 0, 0, 0, 1, 1, 1, 2, 1, 1, 0, 1, 1, 0]\n"
     ]
    }
   ],
   "source": [
    "WA_agent = WeightedAStarAgent()\n",
    "actions, total_cost, expanded = WA_agent.search(env, h_weight=0.5)\n",
    "print(f\"Total_cost: {total_cost}\")\n",
    "print(f\"Expanded: {expanded}\")\n",
    "print(f\"Actions: {actions}\")"
   ]
  },
  {
   "cell_type": "code",
   "execution_count": 22,
   "metadata": {
    "id": "Li9RGdElvetj",
    "ExecuteTime": {
     "end_time": "2024-03-03T18:47:47.714467200Z",
     "start_time": "2024-03-03T18:47:47.673089200Z"
    }
   },
   "outputs": [],
   "source": [
    "#print_solution(actions, env)"
   ]
  },
  {
   "attachments": {},
   "cell_type": "markdown",
   "metadata": {},
   "source": [
    "## 3. A*-epsilon::\n",
    "TO DO: implement A*-epsilon: like shown in class.\n",
    "\n",
    "use the same heuristic as in previous sections.\n",
    "\n",
    "Note:\n",
    "*   A parameter called `epsilon` is passed to `A_star_epsilon_search()`.\n",
    "*   We will not test the amount of expanded nodes for this algorithm.\n"
   ]
  },
  {
   "cell_type": "code",
   "execution_count": 23,
   "metadata": {
    "ExecuteTime": {
     "end_time": "2024-03-03T18:47:47.714467200Z",
     "start_time": "2024-03-03T18:47:47.676427600Z"
    }
   },
   "outputs": [
    {
     "name": "stdout",
     "output_type": "stream",
     "text": [
      "Total_cost: 103\n",
      "Expanded: 81\n",
      "Actions: [0, 0, 0, 0, 0, 0, 1, 1, 1, 2, 1, 1, 0, 1, 1, 0]\n"
     ]
    }
   ],
   "source": [
    "AStarEpsilon_agent = AStarEpsilonAgent()\n",
    "actions, total_cost, expanded = AStarEpsilon_agent.search(env, epsilon=100)\n",
    "print(f\"Total_cost: {total_cost}\")\n",
    "print(f\"Expanded: {expanded}\")\n",
    "print(f\"Actions: {actions}\")"
   ]
  },
  {
   "cell_type": "code",
   "execution_count": 24,
   "metadata": {
    "ExecuteTime": {
     "end_time": "2024-03-03T18:47:47.727363400Z",
     "start_time": "2024-03-03T18:47:47.716469Z"
    }
   },
   "outputs": [],
   "source": [
    "#print_solution(actions, env)"
   ]
  },
  {
   "attachments": {},
   "cell_type": "markdown",
   "metadata": {},
   "source": [
    "## 7. Benchmarking:\n",
    "In this section we want to compare the different search algorithms. The take-home message is that there is no \"one algorithm fits all\"."
   ]
  },
  {
   "cell_type": "code",
   "execution_count": 26,
   "metadata": {
    "ExecuteTime": {
     "end_time": "2024-03-03T19:03:41.044416300Z",
     "start_time": "2024-03-03T19:03:40.910407900Z"
    }
   },
   "outputs": [
    {
     "name": "stdout",
     "output_type": "stream",
     "text": [
      "expanded: (0, False, False) number 0\n",
      "expanded: (1, False, False) number 1\n",
      "expanded: (2, False, False) number 2\n",
      "expanded: (3, False, False) number 3\n",
      "expanded: (23, False, False) number 4\n",
      "expanded: (24, False, False) number 5\n",
      "expanded: (25, False, False) number 6\n",
      "expanded: (26, False, False) number 7\n",
      "expanded: (45, False, False) number 8\n",
      "expanded: (65, False, False) number 9\n",
      "expanded: (66, False, False) number 10\n",
      "expanded: (85, False, False) number 11\n",
      "expanded: (105, False, False) number 12\n",
      "expanded: (106, False, False) number 13\n",
      "expanded: (107, False, False) number 14\n",
      "expanded: (108, False, False) number 15\n",
      "expanded: (109, False, False) number 16\n",
      "expanded: (110, False, False) number 17\n",
      "expanded: (111, False, False) number 18\n",
      "expanded: (112, False, False) number 19\n",
      "expanded: (113, False, False) number 20\n",
      "expanded: (114, False, False) number 21\n",
      "expanded: (115, False, False) number 22\n",
      "expanded: (116, False, False) number 23\n",
      "expanded: (95, False, False) number 24\n",
      "expanded: (96, False, False) number 25\n",
      "expanded: (136, False, False) number 26\n",
      "expanded: (137, False, False) number 27\n",
      "expanded: (138, False, False) number 28\n",
      "expanded: (139, False, False) number 29\n",
      "expanded: (119, False, False) number 30\n",
      "expanded: (157, False, False) number 31\n",
      "expanded: (75, False, False) number 32\n",
      "expanded: (76, False, False) number 33\n",
      "expanded: (77, False, False) number 34\n",
      "expanded: (78, False, False) number 35\n",
      "expanded: (98, False, False) number 36\n",
      "expanded: (99, False, False) number 37\n",
      "expanded: (79, False, False) number 38\n",
      "expanded: (94, False, False) number 39\n",
      "expanded: (134, False, False) number 40\n",
      "expanded: (59, False, False) number 41\n",
      "expanded: (156, False, False) number 42\n",
      "expanded: (131, False, False) number 43\n",
      "expanded: (55, False, False) number 44\n",
      "expanded: (92, False, False) number 45\n",
      "expanded: (93, False, False) number 46\n",
      "expanded: (177, False, False) number 47\n",
      "expanded: (178, False, False) number 48\n",
      "expanded: (154, False, False) number 49\n",
      "expanded: (155, False, False) number 50\n",
      "expanded: (198, False, False) number 51\n",
      "expanded: (151, False, False) number 52\n",
      "expanded: (129, False, False) number 53\n",
      "expanded: (72, False, False) number 54\n",
      "expanded: (89, False, False) number 55\n",
      "expanded: (152, False, False) number 56\n",
      "expanded: (153, False, False) number 57\n",
      "expanded: (174, False, False) number 58\n",
      "expanded: (175, False, False) number 59\n",
      "expanded: (195, False, False) number 60\n",
      "expanded: (196, False, False) number 61\n",
      "expanded: (215, False, False) number 62\n",
      "expanded: (235, False, False) number 63\n",
      "expanded: (216, False, False) number 64\n",
      "expanded: (179, False, False) number 65\n",
      "expanded: (194, False, False) number 66\n",
      "expanded: (214, False, False) number 67\n",
      "expanded: (215, False, False) number 68\n",
      "expanded: (235, False, False) number 69\n",
      "expanded: (234, False, False) number 70\n",
      "expanded: (254, False, False) number 71\n",
      "expanded: (274, False, False) number 72\n",
      "expanded: (275, False, False) number 73\n",
      "expanded: (216, False, False) number 74\n",
      "expanded: (294, False, False) number 75\n",
      "expanded: (273, False, False) number 76\n",
      "expanded: (87, False, False) number 77\n",
      "expanded: (54, False, False) number 78\n",
      "expanded: (86, False, False) number 79\n",
      "expanded: (87, False, False) number 80\n",
      "expanded: (71, False, False) number 81\n",
      "expanded: (217, False, False) number 82\n",
      "expanded: (237, False, False) number 83\n",
      "expanded: (233, False, False) number 84\n",
      "expanded: (253, False, False) number 85\n",
      "expanded: (52, False, False) number 86\n",
      "expanded: (150, False, False) number 87\n",
      "expanded: (173, False, False) number 88\n",
      "expanded: (53, False, False) number 89\n",
      "expanded: (238, False, False) number 90\n",
      "expanded: (258, False, False) number 91\n",
      "expanded: (278, False, False) number 92\n",
      "expanded: (277, False, False) number 93\n",
      "expanded: (297, False, False) number 94\n",
      "expanded: (296, False, False) number 95\n",
      "expanded: (125, False, False) number 96\n",
      "expanded: (126, False, False) number 97\n",
      "expanded: (314, False, False) number 98\n",
      "expanded: (259, False, False) number 99\n",
      "expanded: (128, False, False) number 100\n",
      "expanded: (213, False, False) number 101\n",
      "expanded: (199, False, False) number 102\n",
      "expanded: (218, False, False) number 103\n",
      "expanded: (238, False, False) number 104\n",
      "expanded: (237, False, False) number 105\n",
      "expanded: (258, False, False) number 106\n",
      "expanded: (278, False, False) number 107\n",
      "expanded: (277, False, False) number 108\n",
      "expanded: (297, False, False) number 109\n",
      "expanded: (296, False, False) number 110\n",
      "expanded: (259, False, False) number 111\n",
      "expanded: (146, False, False) number 112\n",
      "expanded: (149, False, False) number 113\n",
      "expanded: (171, False, False) number 114\n",
      "expanded: (191, False, False) number 115\n",
      "expanded: (192, False, False) number 116\n",
      "expanded: (211, False, False) number 117\n",
      "expanded: (231, False, False) number 118\n",
      "expanded: (232, False, False) number 119\n",
      "expanded: (252, False, False) number 120\n",
      "expanded: (253, False, False) number 121\n",
      "expanded: (273, False, False) number 122\n",
      "expanded: (272, False, False) number 123\n",
      "expanded: (233, False, False) number 124\n",
      "expanded: (251, False, False) number 125\n",
      "expanded: (271, False, False) number 126\n",
      "expanded: (291, False, False) number 127\n",
      "expanded: (270, False, False) number 128\n",
      "expanded: (250, False, False) number 129\n",
      "expanded: (270, False, False) number 130\n",
      "expanded: (316, False, False) number 131\n",
      "expanded: (317, False, False) number 132\n",
      "expanded: (316, False, False) number 133\n",
      "expanded: (147, False, False) number 134\n",
      "expanded: (148, False, False) number 135\n",
      "expanded: (128, False, False) number 136\n",
      "expanded: (149, False, False) number 137\n",
      "expanded: (150, False, False) number 138\n",
      "expanded: (151, False, False) number 139\n",
      "expanded: (152, False, False) number 140\n",
      "expanded: (153, False, False) number 141\n",
      "expanded: (154, False, False) number 142\n",
      "expanded: (155, False, False) number 143\n",
      "expanded: (156, False, False) number 144\n",
      "expanded: (174, False, False) number 145\n",
      "expanded: (175, False, False) number 146\n",
      "expanded: (195, False, False) number 147\n",
      "expanded: (196, False, False) number 148\n",
      "expanded: (194, False, False) number 149\n",
      "expanded: (214, False, False) number 150\n",
      "expanded: (215, False, False) number 151\n",
      "expanded: (235, False, False) number 152\n",
      "expanded: (234, False, False) number 153\n",
      "expanded: (254, False, False) number 154\n",
      "expanded: (274, False, False) number 155\n",
      "expanded: (275, False, False) number 156\n",
      "expanded: (216, False, False) number 157\n",
      "expanded: (294, False, False) number 158\n",
      "expanded: (217, False, False) number 159\n",
      "expanded: (173, False, False) number 160\n",
      "expanded: (314, False, False) number 161\n",
      "expanded: (213, False, False) number 162\n",
      "expanded: (170, False, False) number 163\n",
      "expanded: (190, False, False) number 164\n",
      "expanded: (191, False, False) number 165\n",
      "expanded: (192, False, False) number 166\n",
      "expanded: (211, False, False) number 167\n",
      "expanded: (231, False, False) number 168\n",
      "expanded: (232, False, False) number 169\n",
      "expanded: (252, False, False) number 170\n",
      "expanded: (253, False, False) number 171\n",
      "expanded: (254, False, False) number 172\n",
      "expanded: (273, False, False) number 173\n",
      "expanded: (274, False, False) number 174\n",
      "expanded: (275, False, False) number 175\n",
      "expanded: (272, False, False) number 176\n",
      "expanded: (233, False, False) number 177\n",
      "expanded: (234, False, False) number 178\n",
      "expanded: (235, False, False) number 179\n",
      "expanded: (294, False, False) number 180\n",
      "expanded: (251, False, False) number 181\n",
      "expanded: (271, False, False) number 182\n",
      "expanded: (291, False, False) number 183\n",
      "expanded: (270, False, False) number 184\n",
      "expanded: (314, False, False) number 185\n",
      "expanded: (250, False, False) number 186\n",
      "expanded: (270, False, False) number 187\n",
      "expanded: (210, False, False) number 188\n",
      "expanded: (230, False, False) number 189\n",
      "expanded: (250, False, False) number 190\n",
      "expanded: (251, False, False) number 191\n",
      "expanded: (252, False, False) number 192\n",
      "expanded: (253, False, False) number 193\n",
      "expanded: (254, False, False) number 194\n",
      "expanded: (273, False, False) number 195\n",
      "expanded: (274, False, False) number 196\n",
      "expanded: (275, False, False) number 197\n",
      "expanded: (272, False, False) number 198\n",
      "expanded: (271, False, False) number 199\n",
      "expanded: (294, False, False) number 200\n",
      "expanded: (270, False, False) number 201\n",
      "expanded: (232, False, False) number 202\n",
      "expanded: (233, False, False) number 203\n",
      "expanded: (234, False, False) number 204\n",
      "expanded: (235, False, False) number 205\n",
      "expanded: (291, False, False) number 206\n",
      "expanded: (314, False, False) number 207\n",
      "expanded: (269, False, False) number 208\n",
      "expanded: (311, False, False) number 209\n",
      "expanded: (213, False, False) number 210\n",
      "expanded: (312, False, False) number 211\n",
      "expanded: (249, False, False) number 212\n",
      "expanded: (269, False, False) number 213\n",
      "expanded: (313, False, False) number 214\n",
      "expanded: (289, False, False) number 215\n",
      "expanded: (172, False, False) number 216\n",
      "expanded: (173, False, False) number 217\n",
      "expanded: (174, False, False) number 218\n",
      "expanded: (154, False, False) number 219\n",
      "expanded: (155, False, False) number 220\n",
      "expanded: (156, False, False) number 221\n",
      "expanded: (175, False, False) number 222\n",
      "expanded: (195, False, False) number 223\n",
      "expanded: (196, False, False) number 224\n",
      "expanded: (215, False, False) number 225\n",
      "expanded: (216, False, False) number 226\n",
      "expanded: (194, False, False) number 227\n",
      "expanded: (214, False, False) number 228\n",
      "expanded: (215, False, False) number 229\n",
      "expanded: (216, False, False) number 230\n",
      "expanded: (217, False, False) number 231\n",
      "expanded: (237, False, False) number 232\n",
      "expanded: (238, False, False) number 233\n",
      "expanded: (258, False, False) number 234\n",
      "expanded: (278, False, False) number 235\n",
      "expanded: (277, False, False) number 236\n",
      "expanded: (297, False, False) number 237\n",
      "expanded: (296, False, False) number 238\n",
      "expanded: (259, False, False) number 239\n",
      "expanded: (229, False, False) number 240\n",
      "expanded: (317, False, False) number 241\n",
      "expanded: (316, False, False) number 242\n",
      "expanded: (239, False, False) number 243\n",
      "expanded: (334, False, False) number 244\n",
      "expanded: (268, False, False) number 245\n",
      "expanded: (335, False, False) number 246\n",
      "expanded: (171, False, False) number 247\n",
      "expanded: (333, False, False) number 248\n",
      "expanded: (248, False, False) number 249\n",
      "expanded: (298, False, False) number 250\n",
      "expanded: (336, False, False) number 251\n",
      "expanded: (104, False, False) number 252\n",
      "expanded: (288, False, False) number 253\n",
      "expanded: (309, False, False) number 254\n",
      "expanded: (44, False, False) number 255\n",
      "expanded: (32, False, False) number 256\n",
      "expanded: (33, False, False) number 257\n",
      "expanded: (145, False, False) number 258\n",
      "expanded: (146, False, False) number 259\n",
      "expanded: (147, False, False) number 260\n",
      "expanded: (148, False, False) number 261\n",
      "expanded: (128, False, False) number 262\n",
      "expanded: (149, False, False) number 263\n",
      "expanded: (150, False, False) number 264\n",
      "expanded: (151, False, False) number 265\n",
      "expanded: (152, False, False) number 266\n",
      "expanded: (153, False, False) number 267\n",
      "expanded: (170, False, False) number 268\n",
      "expanded: (190, False, False) number 269\n",
      "expanded: (191, False, False) number 270\n",
      "expanded: (192, False, False) number 271\n",
      "expanded: (211, False, False) number 272\n",
      "expanded: (231, False, False) number 273\n",
      "expanded: (210, False, False) number 274\n",
      "expanded: (230, False, False) number 275\n",
      "expanded: (250, False, False) number 276\n",
      "expanded: (251, False, False) number 277\n",
      "expanded: (252, False, False) number 278\n",
      "expanded: (253, False, False) number 279\n",
      "expanded: (254, False, False) number 280\n",
      "expanded: (273, False, False) number 281\n",
      "expanded: (274, False, False) number 282\n",
      "expanded: (275, False, False) number 283\n",
      "expanded: (272, False, False) number 284\n",
      "expanded: (271, False, False) number 285\n",
      "expanded: (294, False, False) number 286\n",
      "expanded: (270, False, False) number 287\n",
      "expanded: (232, False, False) number 288\n",
      "expanded: (233, False, False) number 289\n",
      "expanded: (234, False, False) number 290\n",
      "expanded: (235, False, False) number 291\n",
      "expanded: (291, False, False) number 292\n",
      "expanded: (314, False, False) number 293\n",
      "expanded: (311, False, False) number 294\n",
      "expanded: (213, False, False) number 295\n",
      "expanded: (312, False, False) number 296\n",
      "expanded: (249, False, False) number 297\n",
      "expanded: (269, False, False) number 298\n",
      "expanded: (313, False, False) number 299\n",
      "expanded: (289, False, False) number 300\n",
      "expanded: (172, False, False) number 301\n",
      "expanded: (173, False, False) number 302\n",
      "expanded: (174, False, False) number 303\n",
      "expanded: (154, False, False) number 304\n",
      "expanded: (155, False, False) number 305\n",
      "expanded: (156, False, False) number 306\n",
      "expanded: (175, False, False) number 307\n",
      "expanded: (195, False, False) number 308\n",
      "expanded: (196, False, False) number 309\n",
      "expanded: (194, False, False) number 310\n",
      "expanded: (214, False, False) number 311\n",
      "expanded: (215, False, False) number 312\n",
      "expanded: (216, False, False) number 313\n",
      "expanded: (217, False, False) number 314\n",
      "expanded: (237, False, False) number 315\n",
      "expanded: (238, False, False) number 316\n",
      "expanded: (258, False, False) number 317\n",
      "expanded: (278, False, False) number 318\n",
      "expanded: (277, False, False) number 319\n",
      "expanded: (297, False, False) number 320\n",
      "expanded: (296, False, False) number 321\n",
      "expanded: (259, False, False) number 322\n",
      "expanded: (229, False, False) number 323\n",
      "expanded: (317, False, False) number 324\n",
      "expanded: (316, False, False) number 325\n",
      "expanded: (239, False, False) number 326\n",
      "expanded: (334, False, False) number 327\n",
      "expanded: (171, False, False) number 328\n",
      "expanded: (268, False, False) number 329\n",
      "expanded: (333, False, False) number 330\n",
      "expanded: (335, False, False) number 331\n",
      "expanded: (298, False, False) number 332\n",
      "expanded: (336, False, False) number 333\n",
      "expanded: (248, False, False) number 334\n",
      "expanded: (288, False, False) number 335\n",
      "expanded: (309, False, False) number 336\n",
      "expanded: (168, False, False) number 337\n",
      "expanded: (169, False, False) number 338\n",
      "expanded: (189, False, False) number 339\n",
      "expanded: (209, False, False) number 340\n",
      "expanded: (228, False, False) number 341\n",
      "expanded: (13, False, False) number 342\n",
      "expanded: (14, False, False) number 343\n",
      "expanded: (15, False, False) number 344\n",
      "expanded: (167, False, False) number 345\n",
      "expanded: (187, False, False) number 346\n",
      "expanded: (207, False, False) number 347\n",
      "expanded: (208, False, False) number 348\n",
      "expanded: (228, False, False) number 349\n",
      "expanded: (229, False, False) number 350\n",
      "expanded: (249, False, False) number 351\n",
      "expanded: (250, False, False) number 352\n",
      "expanded: (251, False, False) number 353\n",
      "expanded: (252, False, False) number 354\n",
      "expanded: (253, False, False) number 355\n",
      "expanded: (254, False, False) number 356\n",
      "expanded: (273, False, False) number 357\n",
      "expanded: (274, False, False) number 358\n",
      "expanded: (275, False, False) number 359\n",
      "expanded: (271, False, False) number 360\n",
      "expanded: (272, False, False) number 361\n",
      "expanded: (294, False, False) number 362\n",
      "expanded: (270, False, False) number 363\n",
      "expanded: (232, False, False) number 364\n",
      "expanded: (233, False, False) number 365\n",
      "expanded: (234, False, False) number 366\n",
      "expanded: (235, False, False) number 367\n",
      "expanded: (291, False, False) number 368\n",
      "expanded: (269, False, False) number 369\n",
      "expanded: (214, False, False) number 370\n",
      "expanded: (314, False, False) number 371\n",
      "expanded: (215, False, False) number 372\n",
      "expanded: (216, False, False) number 373\n",
      "expanded: (311, False, False) number 374\n",
      "expanded: (213, False, False) number 375\n",
      "expanded: (312, False, False) number 376\n",
      "expanded: (230, False, False) number 377\n",
      "expanded: (313, False, False) number 378\n",
      "expanded: (231, False, False) number 379\n",
      "expanded: (289, False, False) number 380\n",
      "expanded: (217, False, False) number 381\n",
      "expanded: (237, False, False) number 382\n",
      "expanded: (238, False, False) number 383\n",
      "expanded: (258, False, False) number 384\n",
      "expanded: (278, False, False) number 385\n",
      "expanded: (277, False, False) number 386\n",
      "expanded: (297, False, False) number 387\n",
      "expanded: (296, False, False) number 388\n",
      "expanded: (248, False, False) number 389\n",
      "expanded: (259, False, False) number 390\n",
      "expanded: (268, False, False) number 391\n",
      "expanded: (334, False, False) number 392\n",
      "expanded: (333, False, False) number 393\n",
      "expanded: (335, False, False) number 394\n",
      "expanded: (288, False, False) number 395\n",
      "expanded: (309, False, False) number 396\n",
      "expanded: (336, False, False) number 397\n",
      "expanded: (316, False, False) number 398\n",
      "expanded: (317, False, False) number 399\n",
      "expanded: (239, False, False) number 400\n",
      "expanded: (247, False, False) number 401\n",
      "expanded: (298, False, False) number 402\n",
      "expanded: (267, False, False) number 403\n",
      "expanded: (227, False, False) number 404\n",
      "expanded: (247, False, False) number 405\n",
      "expanded: (267, False, False) number 406\n",
      "expanded: (209, False, False) number 407\n",
      "expanded: (218, False, False) number 408\n",
      "expanded: (353, False, False) number 409\n",
      "expanded: (354, False, False) number 410\n",
      "expanded: (355, False, False) number 411\n",
      "expanded: (374, False, False) number 412\n",
      "expanded: (394, False, False) number 413\n",
      "expanded: (395, False, False) number 414\n",
      "expanded: (396, False, False) number 415\n",
      "expanded: (375, False, False) number 416\n",
      "expanded: (287, False, False) number 417\n",
      "expanded: (308, False, False) number 418\n",
      "expanded: (226, False, False) number 419\n",
      "expanded: (246, False, False) number 420\n",
      "expanded: (373, False, False) number 421\n",
      "expanded: (318, False, False) number 422\n",
      "expanded: (393, False, False) number 423\n",
      "expanded: (338, False, False) number 424\n",
      "expanded: (358, False, False) number 425\n",
      "expanded: (359, False, False) number 426\n",
      "expanded: (379, False, False) number 427\n",
      "expanded: (399, False, False) number 428\n",
      "expanded: (378, False, False) number 429\n",
      "expanded: (398, False, False) number 430\n",
      "expanded: (43, False, False) number 431\n",
      "expanded: (51, False, False) number 432\n",
      "expanded: (63, False, False) number 433\n",
      "expanded: (83, False, False) number 434\n",
      "expanded: (103, False, False) number 435\n",
      "expanded: (104, False, False) number 436\n",
      "expanded: (102, False, False) number 437\n",
      "expanded: (319, False, False) number 438\n",
      "expanded: (5, False, False) number 439\n",
      "expanded: (118, True, False) number 440\n",
      "expanded: (138, True, False) number 441\n",
      "expanded: (137, True, False) number 442\n",
      "expanded: (157, True, False) number 443\n",
      "expanded: (156, True, False) number 444\n",
      "expanded: (177, True, False) number 445\n",
      "expanded: (136, True, False) number 446\n",
      "expanded: (155, True, False) number 447\n",
      "expanded: (178, True, False) number 448\n",
      "expanded: (198, True, False) number 449\n",
      "expanded: (218, True, False) number 450\n",
      "expanded: (238, True, False) number 451\n",
      "expanded: (237, True, False) number 452\n",
      "expanded: (258, True, False) number 453\n",
      "expanded: (278, True, False) number 454\n",
      "expanded: (277, True, False) number 455\n",
      "expanded: (297, True, False) number 456\n",
      "expanded: (296, True, False) number 457\n",
      "expanded: (217, True, False) number 458\n",
      "expanded: (216, True, False) number 459\n",
      "expanded: (259, True, False) number 460\n",
      "expanded: (316, True, False) number 461\n",
      "expanded: (317, True, False) number 462\n",
      "expanded: (316, True, False) number 463\n",
      "expanded: (239, True, False) number 464\n",
      "expanded: (298, True, False) number 465\n",
      "expanded: (175, True, False) number 466\n",
      "expanded: (195, True, False) number 467\n",
      "expanded: (196, True, False) number 468\n",
      "expanded: (215, True, False) number 469\n",
      "expanded: (235, True, False) number 470\n",
      "expanded: (214, True, False) number 471\n",
      "expanded: (336, True, False) number 472\n",
      "expanded: (116, True, False) number 473\n",
      "expanded: (234, True, False) number 474\n",
      "expanded: (254, True, False) number 475\n",
      "expanded: (274, True, False) number 476\n",
      "expanded: (275, True, False) number 477\n",
      "expanded: (124, False, False) number 478\n",
      "expanded: (154, True, False) number 479\n",
      "expanded: (174, True, False) number 480\n",
      "expanded: (194, True, False) number 481\n",
      "expanded: (214, True, False) number 482\n",
      "expanded: (234, True, False) number 483\n",
      "expanded: (254, True, False) number 484\n",
      "expanded: (274, True, False) number 485\n",
      "expanded: (275, True, False) number 486\n",
      "expanded: (294, True, False) number 487\n",
      "expanded: (273, True, False) number 488\n",
      "expanded: (233, True, False) number 489\n",
      "expanded: (253, True, False) number 490\n",
      "expanded: (206, False, False) number 491\n",
      "expanded: (377, False, False) number 492\n",
      "expanded: (82, False, False) number 493\n",
      "expanded: (123, False, False) number 494\n",
      "expanded: (139, True, False) number 495\n",
      "expanded: (314, True, False) number 496\n",
      "expanded: (173, True, False) number 497\n",
      "expanded: (199, True, False) number 498\n",
      "expanded: (352, False, False) number 499\n",
      "expanded: (165, False, False) number 500\n",
      "expanded: (22, False, False) number 501\n",
      "expanded: (42, False, False) number 502\n",
      "expanded: (62, False, False) number 503\n",
      "expanded: (82, False, False) number 504\n",
      "expanded: (83, False, False) number 505\n",
      "expanded: (103, False, False) number 506\n",
      "expanded: (104, False, False) number 507\n",
      "expanded: (105, False, False) number 508\n",
      "expanded: (106, False, False) number 509\n",
      "expanded: (107, False, False) number 510\n",
      "expanded: (108, False, False) number 511\n",
      "expanded: (109, False, False) number 512\n",
      "expanded: (110, False, False) number 513\n",
      "expanded: (111, False, False) number 514\n",
      "expanded: (112, False, False) number 515\n",
      "expanded: (113, False, False) number 516\n",
      "expanded: (114, False, False) number 517\n",
      "expanded: (115, False, False) number 518\n",
      "expanded: (116, False, False) number 519\n",
      "expanded: (95, False, False) number 520\n",
      "expanded: (96, False, False) number 521\n",
      "expanded: (136, False, False) number 522\n",
      "expanded: (137, False, False) number 523\n",
      "expanded: (138, False, False) number 524\n",
      "expanded: (139, False, False) number 525\n",
      "expanded: (119, False, False) number 526\n",
      "expanded: (157, False, False) number 527\n",
      "expanded: (75, False, False) number 528\n",
      "expanded: (76, False, False) number 529\n",
      "expanded: (77, False, False) number 530\n",
      "expanded: (78, False, False) number 531\n",
      "expanded: (98, False, False) number 532\n",
      "expanded: (99, False, False) number 533\n",
      "expanded: (79, False, False) number 534\n",
      "expanded: (94, False, False) number 535\n",
      "expanded: (134, False, False) number 536\n",
      "expanded: (59, False, False) number 537\n",
      "expanded: (156, False, False) number 538\n",
      "expanded: (131, False, False) number 539\n",
      "expanded: (55, False, False) number 540\n",
      "expanded: (92, False, False) number 541\n",
      "expanded: (93, False, False) number 542\n",
      "expanded: (177, False, False) number 543\n",
      "expanded: (178, False, False) number 544\n",
      "expanded: (154, False, False) number 545\n",
      "expanded: (155, False, False) number 546\n",
      "expanded: (198, False, False) number 547\n",
      "expanded: (129, False, False) number 548\n",
      "expanded: (151, False, False) number 549\n",
      "expanded: (72, False, False) number 550\n",
      "expanded: (89, False, False) number 551\n",
      "expanded: (152, False, False) number 552\n",
      "expanded: (153, False, False) number 553\n",
      "expanded: (179, False, False) number 554\n",
      "expanded: (87, False, False) number 555\n",
      "expanded: (54, False, False) number 556\n",
      "expanded: (71, False, False) number 557\n",
      "expanded: (52, False, False) number 558\n",
      "expanded: (53, False, False) number 559\n",
      "expanded: (125, False, False) number 560\n",
      "expanded: (126, False, False) number 561\n",
      "expanded: (128, False, False) number 562\n",
      "expanded: (102, False, False) number 563\n",
      "expanded: (146, False, False) number 564\n",
      "expanded: (199, False, False) number 565\n",
      "expanded: (218, False, False) number 566\n",
      "expanded: (147, False, False) number 567\n",
      "expanded: (148, False, False) number 568\n",
      "expanded: (128, False, False) number 569\n",
      "expanded: (149, False, False) number 570\n",
      "expanded: (150, False, False) number 571\n",
      "expanded: (151, False, False) number 572\n",
      "expanded: (152, False, False) number 573\n",
      "expanded: (153, False, False) number 574\n",
      "expanded: (154, False, False) number 575\n",
      "expanded: (155, False, False) number 576\n",
      "expanded: (156, False, False) number 577\n",
      "expanded: (170, False, False) number 578\n",
      "expanded: (190, False, False) number 579\n",
      "expanded: (191, False, False) number 580\n",
      "expanded: (192, False, False) number 581\n",
      "expanded: (211, False, False) number 582\n",
      "expanded: (210, False, False) number 583\n",
      "expanded: (172, False, False) number 584\n",
      "expanded: (173, False, False) number 585\n",
      "expanded: (174, False, False) number 586\n",
      "expanded: (154, False, False) number 587\n",
      "expanded: (155, False, False) number 588\n",
      "expanded: (156, False, False) number 589\n",
      "expanded: (175, False, False) number 590\n",
      "expanded: (195, False, False) number 591\n",
      "expanded: (196, False, False) number 592\n",
      "expanded: (194, False, False) number 593\n",
      "expanded: (171, False, False) number 594\n",
      "expanded: (32, False, False) number 595\n",
      "expanded: (33, False, False) number 596\n",
      "expanded: (145, False, False) number 597\n",
      "expanded: (146, False, False) number 598\n",
      "expanded: (147, False, False) number 599\n",
      "expanded: (148, False, False) number 600\n",
      "expanded: (128, False, False) number 601\n",
      "expanded: (149, False, False) number 602\n",
      "expanded: (150, False, False) number 603\n",
      "expanded: (151, False, False) number 604\n",
      "expanded: (152, False, False) number 605\n",
      "expanded: (153, False, False) number 606\n",
      "expanded: (170, False, False) number 607\n",
      "expanded: (190, False, False) number 608\n",
      "expanded: (191, False, False) number 609\n",
      "expanded: (192, False, False) number 610\n",
      "expanded: (211, False, False) number 611\n",
      "expanded: (210, False, False) number 612\n",
      "expanded: (172, False, False) number 613\n",
      "expanded: (173, False, False) number 614\n",
      "expanded: (174, False, False) number 615\n",
      "expanded: (154, False, False) number 616\n",
      "expanded: (155, False, False) number 617\n",
      "expanded: (156, False, False) number 618\n",
      "expanded: (175, False, False) number 619\n",
      "expanded: (195, False, False) number 620\n",
      "expanded: (196, False, False) number 621\n",
      "expanded: (194, False, False) number 622\n",
      "expanded: (171, False, False) number 623\n",
      "expanded: (168, False, False) number 624\n",
      "expanded: (169, False, False) number 625\n",
      "expanded: (189, False, False) number 626\n",
      "expanded: (123, False, False) number 627\n",
      "expanded: (13, False, False) number 628\n",
      "expanded: (14, False, False) number 629\n",
      "expanded: (15, False, False) number 630\n",
      "expanded: (124, False, False) number 631\n",
      "expanded: (167, False, False) number 632\n",
      "expanded: (187, False, False) number 633\n",
      "expanded: (207, False, False) number 634\n",
      "expanded: (208, False, False) number 635\n",
      "expanded: (228, False, False) number 636\n",
      "expanded: (229, False, False) number 637\n",
      "expanded: (249, False, False) number 638\n",
      "expanded: (250, False, False) number 639\n",
      "expanded: (251, False, False) number 640\n",
      "expanded: (252, False, False) number 641\n",
      "expanded: (253, False, False) number 642\n",
      "expanded: (254, False, False) number 643\n",
      "expanded: (273, False, False) number 644\n",
      "expanded: (274, False, False) number 645\n",
      "expanded: (275, False, False) number 646\n",
      "expanded: (271, False, False) number 647\n",
      "expanded: (272, False, False) number 648\n",
      "expanded: (294, False, False) number 649\n",
      "expanded: (270, False, False) number 650\n",
      "expanded: (232, False, False) number 651\n",
      "expanded: (233, False, False) number 652\n",
      "expanded: (234, False, False) number 653\n",
      "expanded: (235, False, False) number 654\n",
      "expanded: (291, False, False) number 655\n",
      "expanded: (269, False, False) number 656\n",
      "expanded: (314, False, False) number 657\n",
      "expanded: (214, False, False) number 658\n",
      "expanded: (215, False, False) number 659\n",
      "expanded: (216, False, False) number 660\n",
      "expanded: (311, False, False) number 661\n",
      "expanded: (213, False, False) number 662\n",
      "expanded: (312, False, False) number 663\n",
      "expanded: (313, False, False) number 664\n",
      "expanded: (230, False, False) number 665\n",
      "expanded: (231, False, False) number 666\n",
      "expanded: (289, False, False) number 667\n",
      "expanded: (217, False, False) number 668\n",
      "expanded: (237, False, False) number 669\n",
      "expanded: (238, False, False) number 670\n",
      "expanded: (258, False, False) number 671\n",
      "expanded: (278, False, False) number 672\n",
      "expanded: (277, False, False) number 673\n",
      "expanded: (297, False, False) number 674\n",
      "expanded: (296, False, False) number 675\n",
      "expanded: (248, False, False) number 676\n",
      "expanded: (259, False, False) number 677\n",
      "expanded: (268, False, False) number 678\n",
      "expanded: (334, False, False) number 679\n",
      "expanded: (335, False, False) number 680\n",
      "expanded: (333, False, False) number 681\n",
      "expanded: (288, False, False) number 682\n",
      "expanded: (309, False, False) number 683\n",
      "expanded: (336, False, False) number 684\n",
      "expanded: (316, False, False) number 685\n",
      "expanded: (317, False, False) number 686\n",
      "expanded: (239, False, False) number 687\n",
      "expanded: (247, False, False) number 688\n",
      "expanded: (298, False, False) number 689\n",
      "expanded: (267, False, False) number 690\n",
      "expanded: (227, False, False) number 691\n",
      "expanded: (247, False, False) number 692\n",
      "expanded: (267, False, False) number 693\n",
      "expanded: (209, False, False) number 694\n",
      "expanded: (218, False, False) number 695\n",
      "expanded: (353, False, False) number 696\n",
      "expanded: (354, False, False) number 697\n",
      "expanded: (355, False, False) number 698\n",
      "expanded: (374, False, False) number 699\n",
      "expanded: (394, False, False) number 700\n",
      "expanded: (395, False, False) number 701\n",
      "expanded: (396, False, False) number 702\n",
      "expanded: (375, False, False) number 703\n",
      "expanded: (287, False, False) number 704\n",
      "expanded: (308, False, False) number 705\n",
      "expanded: (226, False, False) number 706\n",
      "expanded: (246, False, False) number 707\n",
      "expanded: (373, False, False) number 708\n",
      "expanded: (318, False, False) number 709\n",
      "expanded: (393, False, False) number 710\n",
      "expanded: (338, False, False) number 711\n",
      "expanded: (358, False, False) number 712\n",
      "expanded: (359, False, False) number 713\n",
      "expanded: (379, False, False) number 714\n",
      "expanded: (399, False, False) number 715\n",
      "expanded: (378, False, False) number 716\n",
      "expanded: (398, False, False) number 717\n",
      "expanded: (51, False, False) number 718\n",
      "expanded: (319, False, False) number 719\n",
      "expanded: (63, False, False) number 720\n",
      "expanded: (118, True, False) number 721\n",
      "expanded: (138, True, False) number 722\n",
      "expanded: (137, True, False) number 723\n",
      "expanded: (157, True, False) number 724\n",
      "expanded: (156, True, False) number 725\n",
      "expanded: (177, True, False) number 726\n",
      "expanded: (136, True, False) number 727\n",
      "expanded: (155, True, False) number 728\n",
      "expanded: (178, True, False) number 729\n",
      "expanded: (198, True, False) number 730\n",
      "expanded: (218, True, False) number 731\n",
      "expanded: (238, True, False) number 732\n",
      "expanded: (237, True, False) number 733\n",
      "expanded: (258, True, False) number 734\n",
      "expanded: (278, True, False) number 735\n",
      "expanded: (277, True, False) number 736\n",
      "expanded: (297, True, False) number 737\n",
      "expanded: (296, True, False) number 738\n",
      "expanded: (217, True, False) number 739\n",
      "expanded: (216, True, False) number 740\n",
      "expanded: (259, True, False) number 741\n",
      "expanded: (317, True, False) number 742\n",
      "expanded: (316, True, False) number 743\n",
      "expanded: (239, True, False) number 744\n",
      "expanded: (298, True, False) number 745\n",
      "expanded: (175, True, False) number 746\n",
      "expanded: (195, True, False) number 747\n",
      "expanded: (196, True, False) number 748\n",
      "expanded: (215, True, False) number 749\n",
      "expanded: (235, True, False) number 750\n",
      "expanded: (116, True, False) number 751\n",
      "expanded: (336, True, False) number 752\n",
      "expanded: (81, False, False) number 753\n",
      "expanded: (154, True, False) number 754\n",
      "expanded: (174, True, False) number 755\n",
      "expanded: (194, True, False) number 756\n",
      "expanded: (214, True, False) number 757\n",
      "expanded: (234, True, False) number 758\n",
      "expanded: (254, True, False) number 759\n",
      "expanded: (274, True, False) number 760\n",
      "expanded: (275, True, False) number 761\n",
      "expanded: (294, True, False) number 762\n",
      "expanded: (273, True, False) number 763\n",
      "expanded: (233, True, False) number 764\n",
      "expanded: (253, True, False) number 765\n",
      "expanded: (206, False, False) number 766\n",
      "expanded: (377, False, False) number 767\n",
      "expanded: (101, False, False) number 768\n",
      "expanded: (314, True, False) number 769\n",
      "expanded: (139, True, False) number 770\n",
      "expanded: (173, True, False) number 771\n",
      "expanded: (199, True, False) number 772\n",
      "expanded: (352, False, False) number 773\n",
      "expanded: (165, False, False) number 774\n",
      "expanded: (213, True, False) number 775\n",
      "expanded: (276, False, True) number 776\n",
      "expanded: (277, False, True) number 777\n",
      "expanded: (297, False, True) number 778\n",
      "expanded: (317, False, True) number 779\n",
      "expanded: (318, False, True) number 780\n",
      "expanded: (338, False, True) number 781\n",
      "expanded: (358, False, True) number 782\n",
      "expanded: (359, False, True) number 783\n",
      "expanded: (378, False, True) number 784\n",
      "expanded: (379, False, True) number 785\n",
      "expanded: (399, False, True) number 786\n",
      "expanded: (398, False, True) number 787\n",
      "expanded: (319, False, True) number 788\n",
      "expanded: (377, False, True) number 789\n",
      "expanded: (357, False, True) number 790\n",
      "expanded: (298, False, True) number 791\n",
      "expanded: (316, False, True) number 792\n",
      "expanded: (336, False, True) number 793\n",
      "expanded: (278, False, True) number 794\n",
      "expanded: (258, False, True) number 795\n",
      "expanded: (238, False, True) number 796\n",
      "expanded: (218, False, True) number 797\n",
      "expanded: (198, False, True) number 798\n",
      "expanded: (178, False, True) number 799\n",
      "expanded: (177, False, True) number 800\n",
      "expanded: (157, False, True) number 801\n",
      "expanded: (137, False, True) number 802\n",
      "expanded: (138, False, True) number 803\n",
      "expanded: (139, False, True) number 804\n",
      "expanded: (119, False, True) number 805\n",
      "expanded: (179, False, True) number 806\n",
      "expanded: (259, False, True) number 807\n",
      "expanded: (237, False, True) number 808\n",
      "expanded: (217, False, True) number 809\n",
      "expanded: (239, False, True) number 810\n",
      "expanded: (136, False, True) number 811\n",
      "expanded: (116, False, True) number 812\n",
      "expanded: (318, True, False) number 813\n",
      "expanded: (372, False, False) number 814\n",
      "expanded: (392, False, False) number 815\n",
      "expanded: (199, False, True) number 816\n",
      "expanded: (296, False, True) number 817\n",
      "expanded: (338, True, False) number 818\n",
      "expanded: (115, True, False) number 819\n",
      "expanded: (358, True, False) number 820\n",
      "expanded: (359, True, False) number 821\n",
      "expanded: (379, True, False) number 822\n",
      "expanded: (399, True, False) number 823\n",
      "expanded: (378, True, False) number 824\n",
      "expanded: (398, True, False) number 825\n",
      "expanded: (256, False, True) number 826\n",
      "expanded: (186, False, False) number 827\n",
      "expanded: (319, True, False) number 828\n",
      "expanded: (357, False, False) number 829\n",
      "expanded: (99, False, True) number 830\n",
      "expanded: (98, False, True) number 831\n",
      "expanded: (115, False, True) number 832\n",
      "expanded: (179, True, False) number 833\n",
      "expanded: (252, True, False) number 834\n",
      "expanded: (61, False, False) number 835\n",
      "expanded: (12, False, False) number 836\n",
      "expanded: (31, False, False) number 837\n",
      "expanded: (144, False, False) number 838\n",
      "expanded: (232, True, False) number 839\n",
      "expanded: (252, True, False) number 840\n",
      "expanded: (272, True, False) number 841\n",
      "expanded: (377, True, False) number 842\n",
      "expanded: (98, True, False) number 843\n",
      "expanded: (205, False, False) number 844\n",
      "expanded: (286, False, False) number 845\n",
      "expanded: (307, False, False) number 846\n",
      "expanded: (328, False, False) number 847\n",
      "expanded: (156, False, True) number 848\n",
      "expanded: (100, False, False) number 849\n",
      "expanded: (225, False, False) number 850\n",
      "expanded: (251, True, False) number 851\n",
      "expanded: (271, True, False) number 852\n",
      "expanded: (351, False, False) number 853\n",
      "expanded: (78, False, True) number 854\n",
      "expanded: (245, False, False) number 855\n",
      "expanded: (143, False, False) number 856\n",
      "expanded: (216, False, True) number 857\n",
      "expanded: (265, False, False) number 858\n",
      "expanded: (196, False, True) number 859\n",
      "expanded: (335, False, True) number 860\n",
      "expanded: (96, True, False) number 861\n",
      "expanded: (291, True, False) number 862\n",
      "expanded: (335, True, False) number 863\n",
      "expanded: (355, False, True) number 864\n",
      "expanded: (21, False, False) number 865\n",
      "expanded: (95, True, False) number 866\n",
      "expanded: (114, True, False) number 867\n",
      "expanded: (270, True, False) number 868\n",
      "expanded: (375, False, True) number 869\n",
      "expanded: (395, False, True) number 870\n",
      "expanded: (396, False, True) number 871\n",
      "expanded: (50, False, False) number 872\n",
      "expanded: (96, False, True) number 873\n",
      "expanded: (134, True, False) number 874\n",
      "expanded: (119, True, False) number 875\n",
      "expanded: (357, True, False) number 876\n",
      "expanded: (391, False, False) number 877\n",
      "expanded: (95, False, True) number 878\n",
      "expanded: (114, False, True) number 879\n",
      "expanded: (153, True, False) number 880\n",
      "expanded: (11, False, False) number 881\n",
      "expanded: (121, False, False) number 882\n",
      "expanded: (313, True, False) number 883\n",
      "expanded: (334, True, False) number 884\n",
      "expanded: (394, False, True) number 885\n",
      "expanded: (30, False, False) number 886\n",
      "expanded: (60, False, False) number 887\n",
      "expanded: (78, True, False) number 888\n",
      "expanded: (77, True, False) number 889\n",
      "expanded: (76, True, False) number 890\n",
      "expanded: (96, True, False) number 891\n",
      "expanded: (75, True, False) number 892\n",
      "expanded: (95, True, False) number 893\n",
      "expanded: (115, True, False) number 894\n",
      "expanded: (116, True, False) number 895\n",
      "expanded: (114, True, False) number 896\n",
      "expanded: (134, True, False) number 897\n",
      "expanded: (306, False, False) number 898\n",
      "expanded: (348, False, False) number 899\n",
      "expanded: (172, True, False) number 900\n",
      "expanded: (192, True, False) number 901\n",
      "expanded: (120, False, False) number 902\n",
      "expanded: (164, False, False) number 903\n",
      "expanded: (204, False, False) number 904\n",
      "expanded: (224, False, False) number 905\n",
      "expanded: (244, False, False) number 906\n",
      "expanded: (264, False, False) number 907\n",
      "expanded: (349, False, False) number 908\n",
      "expanded: (77, False, True) number 909\n",
      "expanded: (371, False, False) number 910\n",
      "expanded: (113, True, False) number 911\n",
      "expanded: (163, False, False) number 912\n",
      "expanded: (183, False, False) number 913\n",
      "expanded: (184, False, False) number 914\n",
      "expanded: (204, False, False) number 915\n",
      "expanded: (205, False, False) number 916\n",
      "expanded: (224, False, False) number 917\n",
      "expanded: (225, False, False) number 918\n",
      "expanded: (244, False, False) number 919\n",
      "expanded: (245, False, False) number 920\n",
      "expanded: (264, False, False) number 921\n",
      "expanded: (265, False, False) number 922\n",
      "expanded: (223, False, False) number 923\n",
      "expanded: (243, False, False) number 924\n",
      "expanded: (263, False, False) number 925\n",
      "expanded: (203, False, False) number 926\n",
      "expanded: (223, False, False) number 927\n",
      "expanded: (243, False, False) number 928\n",
      "expanded: (263, False, False) number 929\n",
      "expanded: (284, False, False) number 930\n",
      "expanded: (250, True, False) number 931\n",
      "expanded: (270, True, False) number 932\n",
      "expanded: (262, False, False) number 933\n",
      "expanded: (283, False, False) number 934\n",
      "expanded: (350, False, False) number 935\n",
      "expanded: (155, False, True) number 936\n",
      "expanded: (275, False, True) number 937\n",
      "expanded: (369, False, False) number 938\n",
      "expanded: (370, False, False) number 939\n",
      "expanded: (389, False, False) number 940\n",
      "expanded: (371, False, False) number 941\n",
      "expanded: (142, False, False) number 942\n",
      "expanded: (191, True, False) number 943\n",
      "expanded: (269, True, False) number 944\n",
      "expanded: (182, False, False) number 945\n",
      "expanded: (211, True, False) number 946\n",
      "expanded: (195, False, True) number 947\n",
      "expanded: (231, True, False) number 948\n",
      "expanded: (202, False, False) number 949\n",
      "expanded: (304, False, False) number 950\n",
      "expanded: (79, False, True) number 951\n",
      "expanded: (175, False, True) number 952\n",
      "expanded: (155, False, True) number 953\n",
      "expanded: (374, False, True) number 954\n",
      "expanded: (394, False, True) number 955\n",
      "expanded: (94, True, False) number 956\n",
      "expanded: (311, True, False) number 957\n",
      "expanded: (55, True, False) number 958\n",
      "expanded: (76, False, True) number 959\n",
      "expanded: (77, False, True) number 960\n",
      "expanded: (312, True, False) number 961\n",
      "expanded: (75, False, True) number 962\n",
      "expanded: (76, False, True) number 963\n",
      "expanded: (77, False, True) number 964\n",
      "expanded: (78, False, True) number 965\n",
      "expanded: (98, False, True) number 966\n",
      "expanded: (79, False, True) number 967\n",
      "expanded: (99, True, False) number 968\n",
      "expanded: (327, False, False) number 969\n",
      "expanded: (113, False, True) number 970\n",
      "expanded: (368, False, False) number 971\n",
      "expanded: (154, False, True) number 972\n",
      "expanded: (333, True, False) number 973\n",
      "expanded: (388, False, False) number 974\n",
      "expanded: (134, False, True) number 975\n",
      "expanded: (29, False, False) number 976\n",
      "expanded: (140, False, False) number 977\n",
      "expanded: (215, False, True) number 978\n",
      "expanded: (249, True, False) number 979\n",
      "expanded: (269, True, False) number 980\n",
      "expanded: (261, False, False) number 981\n",
      "expanded: (282, False, False) number 982\n",
      "expanded: (49, False, False) number 983\n",
      "expanded: (334, False, True) number 984\n",
      "expanded: (141, False, False) number 985\n",
      "expanded: (230, True, False) number 986\n",
      "expanded: (303, False, False) number 987\n",
      "expanded: (354, False, True) number 988\n",
      "expanded: (355, True, False) number 989\n",
      "expanded: (162, False, False) number 990\n",
      "expanded: (181, False, False) number 991\n",
      "expanded: (190, True, False) number 992\n",
      "expanded: (276, True, True) number 993\n",
      "expanded: (277, True, True) number 994\n",
      "expanded: (297, True, True) number 995\n",
      "expanded: (317, True, True) number 996\n",
      "expanded: (318, True, True) number 997\n",
      "expanded: (338, True, True) number 998\n",
      "expanded: (358, True, True) number 999\n",
      "expanded: (359, True, True) number 1000\n",
      "expanded: (379, True, True) number 1001\n",
      "expanded: (399, True, True) number 1002\n"
     ]
    }
   ],
   "source": [
    "import csv\n",
    "\n",
    "test_boards = {\n",
    "\"map12x12\": \n",
    "['SFAFTFFTHHHF',\n",
    "'AFLTFFFFTALF',\n",
    "'LHHLLHHLFTHD',\n",
    "'HALTHAHHADHF',\n",
    "'FFFTFHFFAHFL',\n",
    "'LLTHFFFAHFAT',\n",
    "'HAAFFALHTATF',\n",
    "'LLLFHFFHTLFH',\n",
    "'FATAFHTTFFAF',\n",
    "'HHFLHALLFTLF',\n",
    "'FFAFFTTAFAAL',\n",
    "'TAAFFFHAFHFG'],\n",
    "\"map15x15\": \n",
    "['SFTTFFHHHHLFATF',\n",
    "'ALHTLHFTLLFTHHF',\n",
    "'FTTFHHHAHHFAHTF',\n",
    "'LFHTFTALTAAFLLH',\n",
    "'FTFFAFLFFLFHTFF',\n",
    "'LTAFTHFLHTHHLLA',\n",
    "'TFFFAHHFFAHHHFF',\n",
    "'TTFFLFHAHFFTLFD',\n",
    "'TFHLHTFFHAAHFHF',\n",
    "'HHAATLHFFLFFHLH',\n",
    "'FLFHHAALLHLHHAT',\n",
    "'TLHFFLTHFTTFTTF',\n",
    "'AFLTDAFTLHFHFFF',\n",
    "'FFTFHFLTAFLHTLA',\n",
    "'HTFATLTFHLFHFAG'],\n",
    "\"map20x20\" : \n",
    "['SFFLHFHTALHLFATAHTHT',\n",
    "'HFTTLLAHFTAFAAHHTLFH',\n",
    "'HHTFFFHAFFFFAFFTHHHT',\n",
    "'TTAFHTFHTHHLAHHAALLF',\n",
    "'HLALHFFTHAHHAFFLFHTF',\n",
    "'AFTAFTFLFTTTFTLLTHDF',\n",
    "'LFHFFAAHFLHAHHFHFALA',\n",
    "'AFTFFLTFLFTAFFLTFAHH',\n",
    "'HTTLFTHLTFAFFLAFHFTF',\n",
    "'LLALFHFAHFAALHFTFHTF',\n",
    "'LFFFAAFLFFFFHFLFFAFH',\n",
    "'THHTTFAFLATFATFTHLLL',\n",
    "'HHHAFFFATLLALFAHTHLL',\n",
    "'HLFFFFHFFLAAFTFFDAFH',\n",
    "'HTLFTHFFLTHLHHLHFTFH',\n",
    "'AFTTLHLFFLHTFFAHLAFT',\n",
    "'HAATLHFFFHHHHAFFFHLH',\n",
    "'FHFLLLFHLFFLFTFFHAFL',\n",
    "'LHTFLTLTFATFAFAFHAAF',\n",
    "'FTFFFFFLFTHFTFLTLHFG']}\n",
    "\n",
    "test_envs = {}\n",
    "for board_name, board in test_boards.items():\n",
    "    test_envs[board_name] = DragonBallEnv(board)\n",
    "\n",
    "\n",
    "BFS_agent = BFSAgent()\n",
    "WAStar_agent = WeightedAStarAgent()\n",
    "\n",
    "weights = [0.5, 0.7, 0.9]\n",
    "\n",
    "agents_search_function = [\n",
    "    BFS_agent.search,\n",
    "]\n",
    "\n",
    "header = ['map',  \"BFS-G cost\",  \"BFS-G expanded\",\\\n",
    "           'WA* (0.5) cost', 'WA* (0.5) expanded', 'WA* (0.7) cost', 'WA* (0.7) expanded', 'WA* (0.9) cost', 'WA* (0.9) expanded']\n",
    "\n",
    "with open(\"results.csv\", 'w') as f:\n",
    "  writer = csv.writer(f)\n",
    "  writer.writerow(header)\n",
    "  for env_name, env in test_envs.items():\n",
    "    data = [env_name]\n",
    "    for agent in agents_search_function:\n",
    "      _, total_cost, expanded = agent(env)\n",
    "      data += [total_cost, expanded]\n",
    "    for w in weights:\n",
    "        _, total_cost, expanded = WAStar_agent.search(env, w)\n",
    "        data += [total_cost, expanded]\n",
    "\n",
    "    writer.writerow(data)"
   ]
  },
  {
   "cell_type": "code",
   "outputs": [],
   "source": [],
   "metadata": {
    "collapsed": false
   }
  }
 ],
 "metadata": {
  "colab": {
   "collapsed_sections": [],
   "provenance": []
  },
  "kernelspec": {
   "name": "python3",
   "language": "python",
   "display_name": "Python 3 (ipykernel)"
  },
  "language_info": {
   "codemirror_mode": {
    "name": "ipython",
    "version": 3
   },
   "file_extension": ".py",
   "mimetype": "text/x-python",
   "name": "python",
   "nbconvert_exporter": "python",
   "pygments_lexer": "ipython3",
   "version": "3.9.13"
  }
 },
 "nbformat": 4,
 "nbformat_minor": 0
}
