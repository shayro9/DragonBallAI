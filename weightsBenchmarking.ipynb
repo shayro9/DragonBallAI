{
 "cells": [
  {
   "cell_type": "code",
   "outputs": [],
   "source": [
    "import time\n",
    "from IPython.display import clear_output\n",
    "\n",
    "\n",
    "\n",
    "from DragonBallEnv import DragonBallEnv\n",
    "from typing import List, Tuple\n",
    "from Algorithms import *\n"
   ],
   "metadata": {
    "collapsed": false,
    "ExecuteTime": {
     "end_time": "2024-02-26T16:53:59.841303200Z",
     "start_time": "2024-02-26T16:53:59.724565400Z"
    }
   },
   "execution_count": 1
  },
  {
   "attachments": {},
   "cell_type": "markdown",
   "metadata": {},
   "source": [
    "## 7. Benchmarking:\n",
    "In this section we want to compare the different search algorithms. The take-home message is that there is no \"one algorithm fits all\"."
   ]
  },
  {
   "cell_type": "code",
   "outputs": [],
   "source": [
    "import csv\n",
    "\n",
    "test_boards = {\n",
    "\"map12x12\":\n",
    "['SFAFTFFTHHHF',\n",
    "'AFLTFFFFTALF',\n",
    "'LHHLLHHLFTHD',\n",
    "'HALTHAHHADHF',\n",
    "'FFFTFHFFAHFL',\n",
    "'LLTHFFFAHFAT',\n",
    "'HAAFFALHTATF',\n",
    "'LLLFHFFHTLFH',\n",
    "'FATAFHTTFFAF',\n",
    "'HHFLHALLFTLF',\n",
    "'FFAFFTTAFAAL',\n",
    "'TAAFFFHAFHFG'],\n",
    "\"map15x15\":\n",
    "['SFTTFFHHHHLFATF',\n",
    "'ALHTLHFTLLFTHHF',\n",
    "'FTTFHHHAHHFAHTF',\n",
    "'LFHTFTALTAAFLLH',\n",
    "'FTFFAFLFFLFHTFF',\n",
    "'LTAFTHFLHTHHLLA',\n",
    "'TFFFAHHFFAHHHFF',\n",
    "'TTFFLFHAHFFTLFD',\n",
    "'TFHLHTFFHAAHFHF',\n",
    "'HHAATLHFFLFFHLH',\n",
    "'FLFHHAALLHLHHAT',\n",
    "'TLHFFLTHFTTFTTF',\n",
    "'AFLTDAFTLHFHFFF',\n",
    "'FFTFHFLTAFLHTLA',\n",
    "'HTFATLTFHLFHFAG'],\n",
    "\"map20x20\" :\n",
    "['SFFLHFHTALHLFATAHTHT',\n",
    "'HFTTLLAHFTAFAAHHTLFH',\n",
    "'HHTFFFHAFFFFAFFTHHHT',\n",
    "'TTAFHTFHTHHLAHHAALLF',\n",
    "'HLALHFFTHAHHAFFLFHTF',\n",
    "'AFTAFTFLFTTTFTLLTHDF',\n",
    "'LFHFFAAHFLHAHHFHFALA',\n",
    "'AFTFFLTFLFTAFFLTFAHH',\n",
    "'HTTLFTHLTFAFFLAFHFTF',\n",
    "'LLALFHFAHFAALHFTFHTF',\n",
    "'LFFFAAFLFFFFHFLFFAFH',\n",
    "'THHTTFAFLATFATFTHLLL',\n",
    "'HHHAFFFATLLALFAHTHLL',\n",
    "'HLFFFFHFFLAAFTFFDAFH',\n",
    "'HTLFTHFFLTHLHHLHFTFH',\n",
    "'AFTTLHLFFLHTFFAHLAFT',\n",
    "'HAATLHFFFHHHHAFFFHLH',\n",
    "'FHFLLLFHLFFLFTFFHAFL',\n",
    "'LHTFLTLTFATFAFAFHAAF',\n",
    "'FTFFFFFLFTHFTFLTLHFG']}\n",
    "\n",
    "test_envs = {}\n",
    "for board_name, board in test_boards.items():\n",
    "    test_envs[board_name] = DragonBallEnv(board)\n",
    "\n",
    "\n",
    "BFS_agent = BFSAgent()\n",
    "WAStar_agent = WeightedAStarAgent()\n",
    "\n",
    "weights = [0, 0.1, 0.2, 0.3, 0.4, 0.5, 0.6, 0.7, 0.8, 0.85, 0.9, 0.95, 1]\n",
    "\n",
    "agents_search_function = [\n",
    "    BFS_agent.search,\n",
    "]\n",
    "\n",
    "header = ['weight', 'WA* 12x12 cost', 'WA* 12x12 expanded', 'WA* 15x15 cost', 'WA* 15x15 expanded', 'WA* 20x20 cost', 'WA* 20x20 expanded']\n",
    "\n",
    "with open(r\"result4.csv\", 'w') as f:\n",
    "  writer = csv.writer(f)\n",
    "  writer.writerow(header)\n",
    "  for w in weights: \n",
    "    data = [w]    \n",
    "    for env_name, env in test_envs.items():\n",
    "        _, total_cost, expanded = WAStar_agent.search(env, w)\n",
    "        data += [total_cost, expanded]\n",
    "\n",
    "    writer.writerow(data)"
   ],
   "metadata": {
    "collapsed": false,
    "ExecuteTime": {
     "end_time": "2024-02-26T16:54:00.221256Z",
     "start_time": "2024-02-26T16:53:59.844306500Z"
    }
   },
   "execution_count": 2
  }
 ],
 "metadata": {
  "colab": {
   "collapsed_sections": [],
   "provenance": []
  },
  "kernelspec": {
   "name": "python3",
   "language": "python",
   "display_name": "Python 3 (ipykernel)"
  },
  "language_info": {
   "codemirror_mode": {
    "name": "ipython",
    "version": 3
   },
   "file_extension": ".py",
   "mimetype": "text/x-python",
   "name": "python",
   "nbconvert_exporter": "python",
   "pygments_lexer": "ipython3",
   "version": "3.9.13"
  }
 },
 "nbformat": 4,
 "nbformat_minor": 0
}
